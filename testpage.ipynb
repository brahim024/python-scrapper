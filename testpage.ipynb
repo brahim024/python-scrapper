{
 "cells": [
  {
   "cell_type": "code",
   "execution_count": 55,
   "metadata": {},
   "outputs": [],
   "source": [
    "#check url is work\n",
    "from urllib.request import urlopen\n",
    "from urllib.error import HTTPError"
   ]
  },
  {
   "cell_type": "code",
   "execution_count": 48,
   "metadata": {},
   "outputs": [
    {
     "name": "stdout",
     "output_type": "stream",
     "text": [
      "HTTP Error 403: Forbidden\n"
     ]
    }
   ],
   "source": [
    "from bs4 import BeautifulSoup\n",
    "\n",
    "try:\n",
    "    html=urlopen('https://djangogirls.org/events/')\n",
    "except HTTPError as b:\n",
    "    print(b)\n",
    "else:\n",
    "    print(bs.h1)"
   ]
  },
  {
   "cell_type": "code",
   "execution_count": 51,
   "metadata": {},
   "outputs": [
    {
     "name": "stdout",
     "output_type": "stream",
     "text": [
      "url is not found\n"
     ]
    }
   ],
   "source": [
    "if html:\n",
    "    print('url is not found')\n",
    "else:\n",
    "    print(bs.h1)"
   ]
  },
  {
   "cell_type": "code",
   "execution_count": 53,
   "metadata": {},
   "outputs": [
    {
     "name": "stdout",
     "output_type": "stream",
     "text": [
      "HTTP Error 403: Forbidden\n"
     ]
    }
   ],
   "source": [
    "try:\n",
    "    html=urlopen('https://djangogirls.org/events/')\n",
    "except HTTPError as e:\n",
    "    print(e)\n",
    "else:\n",
    "    print('its worl: ',bs.h1)"
   ]
  },
  {
   "cell_type": "code",
   "execution_count": 63,
   "metadata": {},
   "outputs": [
    {
     "name": "stdout",
     "output_type": "stream",
     "text": [
      "<h1>An Interesting Title</h1>\n"
     ]
    }
   ],
   "source": [
    "def getTitle(url):\n",
    "    try:\n",
    "        html=urlopen(url)\n",
    "    except HTTPError as e:\n",
    "        print(e)\n",
    "    try:\n",
    "        bsObj=BeautifulSoup(html.read())\n",
    "        title=bsObj.body.h1\n",
    "    except AttributeError as e:\n",
    "        return None\n",
    "    return title\n",
    "title=getTitle('http://www.pythonscraping.com/pages/page1.html')\n",
    "if title:\n",
    "    print(title)\n",
    "else:\n",
    "    print('Title be Could')"
   ]
  },
  {
   "cell_type": "code",
   "execution_count": null,
   "metadata": {},
   "outputs": [],
   "source": [
    "# searching for tags by attributes"
   ]
  },
  {
   "cell_type": "code",
   "execution_count": null,
   "metadata": {},
   "outputs": [],
   "source": []
  }
 ],
 "metadata": {
  "kernelspec": {
   "display_name": "Python 3",
   "language": "python",
   "name": "python3"
  },
  "language_info": {
   "codemirror_mode": {
    "name": "ipython",
    "version": 3
   },
   "file_extension": ".py",
   "mimetype": "text/x-python",
   "name": "python",
   "nbconvert_exporter": "python",
   "pygments_lexer": "ipython3",
   "version": "3.8.3"
  }
 },
 "nbformat": 4,
 "nbformat_minor": 4
}
