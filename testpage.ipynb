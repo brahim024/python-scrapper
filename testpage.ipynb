{
 "cells": [
  {
   "cell_type": "code",
   "execution_count": 2,
   "metadata": {},
   "outputs": [],
   "source": [
    "#check url is work\n",
    "from urllib.request import urlopen\n",
    "from urllib.error import HTTPError"
   ]
  },
  {
   "cell_type": "code",
   "execution_count": 4,
   "metadata": {},
   "outputs": [
    {
     "ename": "NameError",
     "evalue": "name 'bs' is not defined",
     "output_type": "error",
     "traceback": [
      "\u001b[1;31m---------------------------------------------------------------------------\u001b[0m",
      "\u001b[1;31mNameError\u001b[0m                                 Traceback (most recent call last)",
      "\u001b[1;32m<ipython-input-4-fe82d1f40222>\u001b[0m in \u001b[0;36m<module>\u001b[1;34m\u001b[0m\n\u001b[0;32m      6\u001b[0m     \u001b[0mprint\u001b[0m\u001b[1;33m(\u001b[0m\u001b[0mb\u001b[0m\u001b[1;33m)\u001b[0m\u001b[1;33m\u001b[0m\u001b[1;33m\u001b[0m\u001b[0m\n\u001b[0;32m      7\u001b[0m \u001b[1;32melse\u001b[0m\u001b[1;33m:\u001b[0m\u001b[1;33m\u001b[0m\u001b[1;33m\u001b[0m\u001b[0m\n\u001b[1;32m----> 8\u001b[1;33m     \u001b[0mprint\u001b[0m\u001b[1;33m(\u001b[0m\u001b[0mbs\u001b[0m\u001b[1;33m.\u001b[0m\u001b[0mh1\u001b[0m\u001b[1;33m)\u001b[0m\u001b[1;33m\u001b[0m\u001b[1;33m\u001b[0m\u001b[0m\n\u001b[0m",
      "\u001b[1;31mNameError\u001b[0m: name 'bs' is not defined"
     ]
    }
   ],
   "source": [
    "from bs4 import BeautifulSoup\n",
    "\n",
    "try:\n",
    "    html=urlopen('https://deals.souq.com/eg-ar/%D9%83%D9%85%D8%A8%D9%8A%D9%88%D8%AA%D8%B1/c/13414')\n",
    "except HTTPError as b:\n",
    "    print(b)\n",
    "else:\n",
    "    print(bs.h1)"
   ]
  },
  {
   "cell_type": "code",
   "execution_count": 51,
   "metadata": {},
   "outputs": [
    {
     "name": "stdout",
     "output_type": "stream",
     "text": [
      "url is not found\n"
     ]
    }
   ],
   "source": [
    "if html:\n",
    "    print('url is not found')\n",
    "else:\n",
    "    print(bs.h1)"
   ]
  },
  {
   "cell_type": "code",
   "execution_count": 53,
   "metadata": {},
   "outputs": [
    {
     "name": "stdout",
     "output_type": "stream",
     "text": [
      "HTTP Error 403: Forbidden\n"
     ]
    }
   ],
   "source": [
    "try:\n",
    "    html=urlopen('https://djangogirls.org/events/')\n",
    "except HTTPError as e:\n",
    "    print(e)\n",
    "else:\n",
    "    print('its worl: ',bs.h1)"
   ]
  },
  {
   "cell_type": "code",
   "execution_count": 3,
   "metadata": {},
   "outputs": [
    {
<<<<<<< HEAD
     "ename": "NameError",
     "evalue": "name 'BeautifulSoup' is not defined",
     "output_type": "error",
     "traceback": [
      "\u001b[1;31m---------------------------------------------------------------------------\u001b[0m",
      "\u001b[1;31mNameError\u001b[0m                                 Traceback (most recent call last)",
      "\u001b[1;32m<ipython-input-3-7113d4e7f4b9>\u001b[0m in \u001b[0;36m<module>\u001b[1;34m\u001b[0m\n\u001b[0;32m     10\u001b[0m         \u001b[1;32mreturn\u001b[0m \u001b[1;32mNone\u001b[0m\u001b[1;33m\u001b[0m\u001b[1;33m\u001b[0m\u001b[0m\n\u001b[0;32m     11\u001b[0m     \u001b[1;32mreturn\u001b[0m \u001b[0mtitle\u001b[0m\u001b[1;33m\u001b[0m\u001b[1;33m\u001b[0m\u001b[0m\n\u001b[1;32m---> 12\u001b[1;33m \u001b[0mtitle\u001b[0m\u001b[1;33m=\u001b[0m\u001b[0mgetTitle\u001b[0m\u001b[1;33m(\u001b[0m\u001b[1;34m'https://deals.souq.com/eg-ar/%D9%83%D9%85%D8%A8%D9%8A%D9%88%D8%AA%D8%B1/c/13414'\u001b[0m\u001b[1;33m)\u001b[0m\u001b[1;33m\u001b[0m\u001b[1;33m\u001b[0m\u001b[0m\n\u001b[0m\u001b[0;32m     13\u001b[0m \u001b[1;32mif\u001b[0m \u001b[0mtitle\u001b[0m \u001b[1;32mis\u001b[0m \u001b[1;32mNone\u001b[0m\u001b[1;33m:\u001b[0m\u001b[1;33m\u001b[0m\u001b[1;33m\u001b[0m\u001b[0m\n\u001b[0;32m     14\u001b[0m     \u001b[0mprint\u001b[0m\u001b[1;33m(\u001b[0m\u001b[1;34m'title is could'\u001b[0m\u001b[1;33m)\u001b[0m\u001b[1;33m\u001b[0m\u001b[1;33m\u001b[0m\u001b[0m\n",
      "\u001b[1;32m<ipython-input-3-7113d4e7f4b9>\u001b[0m in \u001b[0;36mgetTitle\u001b[1;34m(url)\u001b[0m\n\u001b[0;32m      5\u001b[0m         \u001b[0mprint\u001b[0m\u001b[1;33m(\u001b[0m\u001b[0me\u001b[0m\u001b[1;33m)\u001b[0m\u001b[1;33m\u001b[0m\u001b[1;33m\u001b[0m\u001b[0m\n\u001b[0;32m      6\u001b[0m     \u001b[1;32mtry\u001b[0m\u001b[1;33m:\u001b[0m\u001b[1;33m\u001b[0m\u001b[1;33m\u001b[0m\u001b[0m\n\u001b[1;32m----> 7\u001b[1;33m         \u001b[0mbsObj\u001b[0m\u001b[1;33m=\u001b[0m\u001b[0mBeautifulSoup\u001b[0m\u001b[1;33m(\u001b[0m\u001b[0mhtml\u001b[0m\u001b[1;33m.\u001b[0m\u001b[0mread\u001b[0m\u001b[1;33m(\u001b[0m\u001b[1;33m)\u001b[0m\u001b[1;33m)\u001b[0m\u001b[1;33m\u001b[0m\u001b[1;33m\u001b[0m\u001b[0m\n\u001b[0m\u001b[0;32m      8\u001b[0m         \u001b[0mtitle\u001b[0m\u001b[1;33m=\u001b[0m\u001b[0mbsObj\u001b[0m\u001b[1;33m.\u001b[0m\u001b[0mbody\u001b[0m\u001b[1;33m\u001b[0m\u001b[1;33m\u001b[0m\u001b[0m\n\u001b[0;32m      9\u001b[0m     \u001b[1;32mexcept\u001b[0m \u001b[0mAttributeError\u001b[0m \u001b[1;32mas\u001b[0m \u001b[0me\u001b[0m\u001b[1;33m:\u001b[0m\u001b[1;33m\u001b[0m\u001b[1;33m\u001b[0m\u001b[0m\n",
      "\u001b[1;31mNameError\u001b[0m: name 'BeautifulSoup' is not defined"
=======
     "name": "stdout",
     "output_type": "stream",
     "text": [
      "<body class=\"logged-out env-production page-responsive page-profile\">\n",
      "<div class=\"position-relative js-header-wrapper\">\n",
      "<a class=\"px-2 py-4 bg-blue text-white show-on-focus js-skip-to-content\" href=\"#start-of-content\">Skip to content</a>\n",
      "<span class=\"progress-pjax-loader width-full js-pjax-loader-bar Progress position-fixed\">\n",
      "<span class=\"Progress-item progress-pjax-loader-bar\" style=\"background-color: #79b8ff;width: 0%;\"></span>\n",
      "</span>\n",
      "<header class=\"Header-old header-logged-out js-details-container Details position-relative f4 py-2\" role=\"banner\">\n",
      "<div class=\"container-xl d-lg-flex flex-items-center p-responsive\">\n",
      "<div class=\"d-flex flex-justify-between flex-items-center\">\n",
      "<a aria-label=\"Homepage\" class=\"mr-4\" data-ga-click=\"(Logged out) Header, go to homepage, icon:logo-wordmark\" href=\"https://github.com/\">\n",
      "<svg aria-hidden=\"true\" class=\"octicon octicon-mark-github text-white\" height=\"32\" version=\"1.1\" viewbox=\"0 0 16 16\" width=\"32\"><path d=\"M8 0C3.58 0 0 3.58 0 8c0 3.54 2.29 6.53 5.47 7.59.4.07.55-.17.55-.38 0-.19-.01-.82-.01-1.49-2.01.37-2.53-.49-2.69-.94-.09-.23-.48-.94-.82-1.13-.28-.15-.68-.52-.01-.53.63-.01 1.08.58 1.23.82.72 1.21 1.87.87 2.33.66.07-.52.28-.87.51-1.07-1.78-.2-3.64-.89-3.64-3.95 0-.87.31-1.59.82-2.15-.08-.2-.36-1.02.08-2.12 0 0 .67-.21 2.2.82.64-.18 1.32-.27 2-.27.68 0 1.36.09 2 .27 1.53-1.04 2.2-.82 2.2-.82.44 1.1.16 1.92.08 2.12.51.56.82 1.27.82 2.15 0 3.07-1.87 3.75-3.65 3.95.29.25.54.73.54 1.48 0 1.07-.01 1.93-.01 2.2 0 .21.15.46.55.38A8.013 8.013 0 0016 8c0-4.42-3.58-8-8-8z\" fill-rule=\"evenodd\"></path></svg>\n",
      "</a>\n",
      "<div class=\"d-lg-none css-truncate css-truncate-target width-fit p-2\">\n",
      "</div>\n",
      "<div class=\"d-flex flex-items-center\">\n",
      "<a class=\"d-inline-block d-lg-none f5 text-white no-underline border border-gray-dark rounded-2 px-2 py-1 mr-3 mr-sm-5\" data-ga-click=\"Sign up, click to sign up for account, ref_page:/&lt;user-name&gt;;ref_cta:Sign up;ref_loc:header logged out\" data-hydro-click='{\"event_type\":\"authentication.click\",\"payload\":{\"location_in_page\":\"site header\",\"repository_id\":null,\"auth_type\":\"SIGN_UP\",\"originating_url\":\"https://github.com/brahim024\",\"user_id\":null}}' data-hydro-click-hmac=\"cb49086fd6b1a1b80ed6b40768d531473bbbc99aaf6511203805d5d949c6776d\" href=\"/join?ref_cta=Sign+up&amp;ref_loc=header+logged+out&amp;ref_page=%2F%3Cuser-name%3E&amp;source=header\">\n",
      "                Sign up\n",
      "              </a>\n",
      "<button aria-expanded=\"false\" aria-label=\"Toggle navigation\" class=\"btn-link d-lg-none mt-1 js-details-target\" type=\"button\">\n",
      "<svg aria-hidden=\"true\" class=\"octicon octicon-three-bars text-white\" height=\"24\" version=\"1.1\" viewbox=\"0 0 16 16\" width=\"24\"><path d=\"M1 2.75A.75.75 0 011.75 2h12.5a.75.75 0 110 1.5H1.75A.75.75 0 011 2.75zm0 5A.75.75 0 011.75 7h12.5a.75.75 0 110 1.5H1.75A.75.75 0 011 7.75zM1.75 12a.75.75 0 100 1.5h12.5a.75.75 0 100-1.5H1.75z\" fill-rule=\"evenodd\"></path></svg>\n",
      "</button>\n",
      "</div>\n",
      "</div>\n",
      "<div class=\"HeaderMenu HeaderMenu--logged-out position-fixed top-0 right-0 bottom-0 height-fit position-lg-relative d-lg-flex flex-justify-between flex-items-center flex-auto\">\n",
      "<div class=\"d-flex d-lg-none flex-justify-end border-bottom bg-gray-light p-3\">\n",
      "<button aria-expanded=\"false\" aria-label=\"Toggle navigation\" class=\"btn-link js-details-target\" type=\"button\">\n",
      "<svg aria-hidden=\"true\" class=\"octicon octicon-x text-gray\" height=\"24\" version=\"1.1\" viewbox=\"0 0 24 24\" width=\"24\"><path d=\"M5.72 5.72a.75.75 0 011.06 0L12 10.94l5.22-5.22a.75.75 0 111.06 1.06L13.06 12l5.22 5.22a.75.75 0 11-1.06 1.06L12 13.06l-5.22 5.22a.75.75 0 01-1.06-1.06L10.94 12 5.72 6.78a.75.75 0 010-1.06z\" fill-rule=\"evenodd\"></path></svg>\n",
      "</button>\n",
      "</div>\n",
      "<nav aria-label=\"Global\" class=\"mt-0 px-3 px-lg-0 mb-5 mb-lg-0\">\n",
      "<ul class=\"d-lg-flex list-style-none\">\n",
      "<li class=\"d-block d-lg-flex flex-lg-nowrap flex-lg-items-center border-bottom border-lg-bottom-0 mr-0 mr-lg-3 edge-item-fix position-relative flex-wrap flex-justify-between d-flex flex-items-center\">\n",
      "<details class=\"HeaderMenu-details details-overlay details-reset width-full\">\n",
      "<summary class=\"HeaderMenu-summary HeaderMenu-link px-0 py-3 border-0 no-wrap d-block d-lg-inline-block\">\n",
      "                    Why GitHub?\n",
      "                    <svg class=\"icon-chevon-down-mktg position-absolute position-lg-relative\" fill=\"none\" viewbox=\"0 0 14 8\" x=\"0px\" xml:space=\"preserve\" y=\"0px\">\n",
      "<path d=\"M1,1l6.2,6L13,1\"></path>\n",
      "</svg>\n",
      "</summary>\n",
      "<div class=\"dropdown-menu flex-auto rounded-1 bg-white px-0 mt-0 pb-4 p-lg-4 position-relative position-lg-absolute left-0 left-lg-n4\">\n",
      "<a class=\"py-2 lh-condensed-ultra d-block link-gray-dark no-underline h5 Bump-link--hover\" data-ga-click=\"(Logged out) Header, go to Features\" href=\"/features\">Features <span class=\"Bump-link-symbol float-right text-normal text-gray-light\">→</span></a>\n",
      "<ul class=\"list-style-none f5 pb-3\">\n",
      ... its a big hhhh
      "</body>\n"
>>>>>>> da9b56f096c45f932a3463153728eee223200f84
     ]
    }
   ],
   "source": [
    "def getTitle(url):\n",
    "    try:\n",
    "        html=urlopen(url)\n",
    "    except HTTPError as e:\n",
    "        print(e)\n",
    "    try:\n",
    "        bsObj=BeautifulSoup(html.read())\n",
    "        title=bsObj.body\n",
    "    except AttributeError as e:\n",
    "        return None\n",
    "    return title\n",
    "title=getTitle('https://deals.souq.com/eg-ar/%D9%83%D9%85%D8%A8%D9%8A%D9%88%D8%AA%D8%B1/c/13414')\n",
    "if title is None:\n",
    "    print('title is could')\n",
    "else:\n",
    "    print(title)"
   ]
  },
  {
   "cell_type": "code",
   "execution_count": null,
   "metadata": {},
   "outputs": [],
   "source": [
    "# searching for tags by attributes"
   ]
  },
  {
   "cell_type": "code",
   "execution_count": 102,
   "metadata": {},
   "outputs": [
    {
     "name": "stdout",
     "output_type": "stream",
     "text": [
      "\n",
      "\n",
      "        python-scrapper\n",
      "\n",
      "\n",
      "\n",
      "        django-Follow-system\n",
      "\n",
      "\n",
      "\n",
      "        Django-Project-Hotel-Booking\n",
      "\n",
      "\n",
      "\n",
      "        django-job-boards\n",
      "\n",
      "\n",
      "\n",
      "        python-face-recognition\n",
      "\n",
      "\n",
      "\n",
      "        python-exc\n",
      "\n",
      "\n",
      "\n",
      "        py4e\n",
      "\n",
      "\n",
      "\n",
      "        django-ecommerce-web-app\n",
      "\n",
      "\n",
      "\n",
      "        payment-process-Api-django\n",
      "\n",
      "\n",
      "\n",
      "        django-Book-app\n",
      "\n",
      "\n",
      "\n",
      "        django-celery-send-email\n",
      "\n",
      "\n",
      "\n",
      "        Django-share--content\n",
      "\n",
      "\n",
      "\n",
      "        django-advanced-blog\n",
      "\n",
      "\n",
      "\n",
      "        django-ecommerce\n",
      "\n",
      "\n",
      "\n",
      "        brahim024\n",
      "\n",
      "\n",
      "\n",
      "        python-objected-oriented-programming-design\n",
      "\n",
      "\n",
      "\n",
      "        django-ckeditor\n",
      "\n",
      "\n",
      "\n",
      "        django-user-auth\n",
      "\n",
      "\n",
      "\n",
      "        LinkedList-1\n",
      "\n",
      "\n",
      "\n",
      "        create-objects-in-the-Django-database-from-a-CSV-file-upload\n",
      "\n",
      "\n",
      "\n",
      "        YT-Django-CBV-Mini-Series\n",
      "\n",
      "\n",
      "\n",
      "        Django-3-by-Example\n",
      "\n",
      "\n",
      "\n",
      "        django-tuto\n",
      "\n",
      "\n",
      "\n",
      "        django-poll-app\n",
      "\n",
      "\n",
      "\n",
      "        django-web-scraper\n",
      "\n",
      "\n",
      "\n",
      "        django-personal-blog\n",
      "\n",
      "\n",
      "\n",
      "        job_board-with-django\n",
      "\n",
      "\n",
      "\n",
      "        job-board-with-django\n",
      "\n",
      "\n",
      "\n",
      "        django\n",
      "\n",
      "\n",
      "\n",
      "        django-beginners-guide\n",
      "\n"
     ]
    }
   ],
   "source": [
    "from urllib.request import urlopen\n",
    "from bs4 import BeautifulSoup\n",
    "html=urlopen(\"https://github.com/brahim024?tab=repositories\")\n",
    "bsObj=BeautifulSoup(html)\n",
    "nameList=bsObj.findAll('h3',{'class':'wb-break-all'})\n",
    "for name in nameList:\n",
    "    print(name.get_text())\n"
   ]
  },
  {
   "cell_type": "raw",
   "metadata": {},
   "source": []
  },
  {
   "cell_type": "code",
   "execution_count": null,
   "metadata": {},
   "outputs": [],
   "source": []
  }
 ],
 "metadata": {
  "kernelspec": {
   "display_name": "Python 3",
   "language": "python",
   "name": "python3"
  },
  "language_info": {
   "codemirror_mode": {
    "name": "ipython",
    "version": 3
   },
   "file_extension": ".py",
   "mimetype": "text/x-python",
   "name": "python",
   "nbconvert_exporter": "python",
   "pygments_lexer": "ipython3",
   "version": "3.8.3"
  }
 },
 "nbformat": 4,
 "nbformat_minor": 4
}
