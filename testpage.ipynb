{
 "cells": [
  {
   "cell_type": "code",
   "execution_count": 2,
   "metadata": {},
   "outputs": [],
   "source": [
    "#check url is work\n",
    "from urllib.request import urlopen\n",
    "from urllib.error import HTTPError"
   ]
  },
  {
   "cell_type": "code",
   "execution_count": 4,
   "metadata": {},
   "outputs": [
    {
     "ename": "NameError",
     "evalue": "name 'bs' is not defined",
     "output_type": "error",
     "traceback": [
      "\u001b[1;31m---------------------------------------------------------------------------\u001b[0m",
      "\u001b[1;31mNameError\u001b[0m                                 Traceback (most recent call last)",
      "\u001b[1;32m<ipython-input-4-fe82d1f40222>\u001b[0m in \u001b[0;36m<module>\u001b[1;34m\u001b[0m\n\u001b[0;32m      6\u001b[0m     \u001b[0mprint\u001b[0m\u001b[1;33m(\u001b[0m\u001b[0mb\u001b[0m\u001b[1;33m)\u001b[0m\u001b[1;33m\u001b[0m\u001b[1;33m\u001b[0m\u001b[0m\n\u001b[0;32m      7\u001b[0m \u001b[1;32melse\u001b[0m\u001b[1;33m:\u001b[0m\u001b[1;33m\u001b[0m\u001b[1;33m\u001b[0m\u001b[0m\n\u001b[1;32m----> 8\u001b[1;33m     \u001b[0mprint\u001b[0m\u001b[1;33m(\u001b[0m\u001b[0mbs\u001b[0m\u001b[1;33m.\u001b[0m\u001b[0mh1\u001b[0m\u001b[1;33m)\u001b[0m\u001b[1;33m\u001b[0m\u001b[1;33m\u001b[0m\u001b[0m\n\u001b[0m",
      "\u001b[1;31mNameError\u001b[0m: name 'bs' is not defined"
     ]
    }
   ],
   "source": [
    "from bs4 import BeautifulSoup\n",
    "\n",
    "try:\n",
    "    html=urlopen('https://deals.souq.com/eg-ar/%D9%83%D9%85%D8%A8%D9%8A%D9%88%D8%AA%D8%B1/c/13414')\n",
    "except HTTPError as b:\n",
    "    print(b)\n",
    "else:\n",
    "    print(bs.h1)"
   ]
  },
  {
   "cell_type": "code",
   "execution_count": 51,
   "metadata": {},
   "outputs": [
    {
     "name": "stdout",
     "output_type": "stream",
     "text": [
      "url is not found\n"
     ]
    }
   ],
   "source": [
    "if html:\n",
    "    print('url is not found')\n",
    "else:\n",
    "    print(bs.h1)"
   ]
  },
  {
   "cell_type": "code",
   "execution_count": 53,
   "metadata": {},
   "outputs": [
    {
     "name": "stdout",
     "output_type": "stream",
     "text": [
      "HTTP Error 403: Forbidden\n"
     ]
    }
   ],
   "source": [
    "try:\n",
    "    html=urlopen('https://djangogirls.org/events/')\n",
    "except HTTPError as e:\n",
    "    print(e)\n",
    "else:\n",
    "    print('its worl: ',bs.h1)"
   ]
  },
  {
   "cell_type": "code",
   "execution_count": 3,
   "metadata": {},
   "outputs": [
    {
     "ename": "NameError",
     "evalue": "name 'BeautifulSoup' is not defined",
     "output_type": "error",
     "traceback": [
      "\u001b[1;31m---------------------------------------------------------------------------\u001b[0m",
      "\u001b[1;31mNameError\u001b[0m                                 Traceback (most recent call last)",
      "\u001b[1;32m<ipython-input-3-7113d4e7f4b9>\u001b[0m in \u001b[0;36m<module>\u001b[1;34m\u001b[0m\n\u001b[0;32m     10\u001b[0m         \u001b[1;32mreturn\u001b[0m \u001b[1;32mNone\u001b[0m\u001b[1;33m\u001b[0m\u001b[1;33m\u001b[0m\u001b[0m\n\u001b[0;32m     11\u001b[0m     \u001b[1;32mreturn\u001b[0m \u001b[0mtitle\u001b[0m\u001b[1;33m\u001b[0m\u001b[1;33m\u001b[0m\u001b[0m\n\u001b[1;32m---> 12\u001b[1;33m \u001b[0mtitle\u001b[0m\u001b[1;33m=\u001b[0m\u001b[0mgetTitle\u001b[0m\u001b[1;33m(\u001b[0m\u001b[1;34m'https://deals.souq.com/eg-ar/%D9%83%D9%85%D8%A8%D9%8A%D9%88%D8%AA%D8%B1/c/13414'\u001b[0m\u001b[1;33m)\u001b[0m\u001b[1;33m\u001b[0m\u001b[1;33m\u001b[0m\u001b[0m\n\u001b[0m\u001b[0;32m     13\u001b[0m \u001b[1;32mif\u001b[0m \u001b[0mtitle\u001b[0m \u001b[1;32mis\u001b[0m \u001b[1;32mNone\u001b[0m\u001b[1;33m:\u001b[0m\u001b[1;33m\u001b[0m\u001b[1;33m\u001b[0m\u001b[0m\n\u001b[0;32m     14\u001b[0m     \u001b[0mprint\u001b[0m\u001b[1;33m(\u001b[0m\u001b[1;34m'title is could'\u001b[0m\u001b[1;33m)\u001b[0m\u001b[1;33m\u001b[0m\u001b[1;33m\u001b[0m\u001b[0m\n",
      "\u001b[1;32m<ipython-input-3-7113d4e7f4b9>\u001b[0m in \u001b[0;36mgetTitle\u001b[1;34m(url)\u001b[0m\n\u001b[0;32m      5\u001b[0m         \u001b[0mprint\u001b[0m\u001b[1;33m(\u001b[0m\u001b[0me\u001b[0m\u001b[1;33m)\u001b[0m\u001b[1;33m\u001b[0m\u001b[1;33m\u001b[0m\u001b[0m\n\u001b[0;32m      6\u001b[0m     \u001b[1;32mtry\u001b[0m\u001b[1;33m:\u001b[0m\u001b[1;33m\u001b[0m\u001b[1;33m\u001b[0m\u001b[0m\n\u001b[1;32m----> 7\u001b[1;33m         \u001b[0mbsObj\u001b[0m\u001b[1;33m=\u001b[0m\u001b[0mBeautifulSoup\u001b[0m\u001b[1;33m(\u001b[0m\u001b[0mhtml\u001b[0m\u001b[1;33m.\u001b[0m\u001b[0mread\u001b[0m\u001b[1;33m(\u001b[0m\u001b[1;33m)\u001b[0m\u001b[1;33m)\u001b[0m\u001b[1;33m\u001b[0m\u001b[1;33m\u001b[0m\u001b[0m\n\u001b[0m\u001b[0;32m      8\u001b[0m         \u001b[0mtitle\u001b[0m\u001b[1;33m=\u001b[0m\u001b[0mbsObj\u001b[0m\u001b[1;33m.\u001b[0m\u001b[0mbody\u001b[0m\u001b[1;33m\u001b[0m\u001b[1;33m\u001b[0m\u001b[0m\n\u001b[0;32m      9\u001b[0m     \u001b[1;32mexcept\u001b[0m \u001b[0mAttributeError\u001b[0m \u001b[1;32mas\u001b[0m \u001b[0me\u001b[0m\u001b[1;33m:\u001b[0m\u001b[1;33m\u001b[0m\u001b[1;33m\u001b[0m\u001b[0m\n",
      "\u001b[1;31mNameError\u001b[0m: name 'BeautifulSoup' is not defined"
     ]
    }
   ],
   "source": [
    "def getTitle(url):\n",
    "    try:\n",
    "        html=urlopen(url)\n",
    "    except HTTPError as e:\n",
    "        print(e)\n",
    "    try:\n",
    "        bsObj=BeautifulSoup(html.read())\n",
    "        title=bsObj.body\n",
    "    except AttributeError as e:\n",
    "        return None\n",
    "    return title\n",
    "title=getTitle('https://deals.souq.com/eg-ar/%D9%83%D9%85%D8%A8%D9%8A%D9%88%D8%AA%D8%B1/c/13414')\n",
    "if title is None:\n",
    "    print('title is could')\n",
    "else:\n",
    "    print(title)"
   ]
  },
  {
   "cell_type": "code",
   "execution_count": null,
   "metadata": {},
   "outputs": [],
   "source": [
    "# searching for tags by attributes"
   ]
  },
  {
   "cell_type": "code",
   "execution_count": 102,
   "metadata": {},
   "outputs": [
    {
     "name": "stdout",
     "output_type": "stream",
     "text": [
      "\n",
      "\n",
      "        python-scrapper\n",
      "\n",
      "\n",
      "\n",
      "        django-Follow-system\n",
      "\n",
      "\n",
      "\n",
      "        Django-Project-Hotel-Booking\n",
      "\n",
      "\n",
      "\n",
      "        django-job-boards\n",
      "\n",
      "\n",
      "\n",
      "        python-face-recognition\n",
      "\n",
      "\n",
      "\n",
      "        python-exc\n",
      "\n",
      "\n",
      "\n",
      "        py4e\n",
      "\n",
      "\n",
      "\n",
      "        django-ecommerce-web-app\n",
      "\n",
      "\n",
      "\n",
      "        payment-process-Api-django\n",
      "\n",
      "\n",
      "\n",
      "        django-Book-app\n",
      "\n",
      "\n",
      "\n",
      "        django-celery-send-email\n",
      "\n",
      "\n",
      "\n",
      "        Django-share--content\n",
      "\n",
      "\n",
      "\n",
      "        django-advanced-blog\n",
      "\n",
      "\n",
      "\n",
      "        django-ecommerce\n",
      "\n",
      "\n",
      "\n",
      "        brahim024\n",
      "\n",
      "\n",
      "\n",
      "        python-objected-oriented-programming-design\n",
      "\n",
      "\n",
      "\n",
      "        django-ckeditor\n",
      "\n",
      "\n",
      "\n",
      "        django-user-auth\n",
      "\n",
      "\n",
      "\n",
      "        LinkedList-1\n",
      "\n",
      "\n",
      "\n",
      "        create-objects-in-the-Django-database-from-a-CSV-file-upload\n",
      "\n",
      "\n",
      "\n",
      "        YT-Django-CBV-Mini-Series\n",
      "\n",
      "\n",
      "\n",
      "        Django-3-by-Example\n",
      "\n",
      "\n",
      "\n",
      "        django-tuto\n",
      "\n",
      "\n",
      "\n",
      "        django-poll-app\n",
      "\n",
      "\n",
      "\n",
      "        django-web-scraper\n",
      "\n",
      "\n",
      "\n",
      "        django-personal-blog\n",
      "\n",
      "\n",
      "\n",
      "        job_board-with-django\n",
      "\n",
      "\n",
      "\n",
      "        job-board-with-django\n",
      "\n",
      "\n",
      "\n",
      "        django\n",
      "\n",
      "\n",
      "\n",
      "        django-beginners-guide\n",
      "\n"
     ]
    }
   ],
   "source": [
    "from urllib.request import urlopen\n",
    "from bs4 import BeautifulSoup\n",
    "html=urlopen(\"https://github.com/brahim024?tab=repositories\")\n",
    "bsObj=BeautifulSoup(html)\n",
    "nameList=bsObj.findAll('h3',{'class':'wb-break-all'})\n",
    "for name in nameList:\n",
    "    print(name.get_text())\n"
   ]
  },
  {
   "cell_type": "raw",
   "metadata": {},
   "source": []
  },
  {
   "cell_type": "code",
   "execution_count": null,
   "metadata": {},
   "outputs": [],
   "source": []
  }
 ],
 "metadata": {
  "kernelspec": {
   "display_name": "Python 3",
   "language": "python",
   "name": "python3"
  },
  "language_info": {
   "codemirror_mode": {
    "name": "ipython",
    "version": 3
   },
   "file_extension": ".py",
   "mimetype": "text/x-python",
   "name": "python",
   "nbconvert_exporter": "python",
   "pygments_lexer": "ipython3",
   "version": "3.8.3"
  }
 },
 "nbformat": 4,
 "nbformat_minor": 4
}
